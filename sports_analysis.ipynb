version https://git-lfs.github.com/spec/v1
oid sha256:5bcd524cf31539744958e4c414739daa323004cb99535bf3aff091b2612231c7
size 312693040
